{
 "cells": [
  {
   "cell_type": "markdown",
   "metadata": {},
   "source": [
    "## CS410 Text Information Systems Technology Review"
   ]
  },
  {
   "cell_type": "markdown",
   "metadata": {},
   "source": [
    "### Topic: Sentiment Analysis using Python nltk for Financial Reports"
   ]
  },
  {
   "cell_type": "markdown",
   "metadata": {},
   "source": [
    "\n",
    "### Introduction\n",
    "\n",
    "In rencent years, the analysis of textual information for financial decision making has become increasingly popular.\n",
    "For instance, Li (2010) use it to predict future earnings, Kravet and Musli (2013) use textual analysis to predict stock prices and Humphreys et al. (2011) employ it for detecting corporate fraud. \n",
    "\n",
    "Academic research aside, the use of textual materials for conducting sentiment analysis is also important from an industry perspective. It is not difficult to see that effective sentiment analysis can be converted into potential alpha signals for quantitative fund managers.  \n",
    "\n",
    "A common method for discerning sentiment of a company is to run textual analysis on a company's Management Discussion and Analysis (MD&A) section of Form 10-Q and 10-K. Sentiment can be classified into positive, negative or neutral tones which can then be used to generate a signal for earnings or stock price prediction.\n",
    "\n",
    "In this note, we will review of the technologies used by quantitative fund managers and academics to determine stock / company sentiment via textual analysis. We also provide a basic tutorial in Python of how this works in practice.\n",
    "\n",
    "\n",
    "\n",
    "### Literature Review\n",
    "\n",
    "\n",
    "An overview of some academic papers on text analysis in the accounting and finance field.\n",
    "\n",
    "| Authors                      | Data                    | Method                                         |\n",
    "|------------------------------|-------------------------|------------------------------------------------|\n",
    "| Antweiler and Frank (2004)   | Yahoo! Finance Postings | single-label classifier                        |\n",
    "| Li (2008)                    | 10-K                    | content analysis: readability                  |\n",
    "| Tetlock et al. (2008)        | Financial News Articles | word categorization: positive / negative words |\n",
    "| Loughran and McDonald (2009) | 10-K                    | word categorization: positive / negative words |\n",
    "| Feldman et al. (2009)        | 10-K MD&A               | word categorization: positive / negative words |\n",
    "| Hanley and Hoberg (2010)     | IPO Prospectus          | single-label classifier                        |\n",
    "| Li (2010)                    | 10-K MD&A               | single-label classifier                        |\n",
    "| Huang and Li (2011)          | 10-K Risk Factors       | multi-label classifier                         |\n",
    "\n",
    "\n",
    "In Li (2008), the author  examines the relationship between corporate earnings and 10-K filing readability.\n",
    "To measure readability the author uses the two basic metrics:\n",
    "\n",
    "* The Fog Index: based on average sentence length and the number of complex words with 3 or more syllables. \n",
    "$$\n",
    "0.4 \\times ( \\frac{words}{sentences} + 100 \\times \\frac{complex_words}{words} )\n",
    "$$\n",
    "\n",
    "* Length: the total length of the 10-K filing\n",
    "\n",
    "Li (2008) found that companies with 10-K filings that were longer and less readable (higher Fog index), had lower earnings and generally were in poorer financial conditions. \n",
    "\n",
    "Tetlock et al. (2008) examine if sentiment on the Wall Street Journal had any impact on the stock market. \n",
    "Sentiment is obtained  by the number of positive words and negative words categorized by the General Inquirer (GI), a popular dictionary used by psychologists. Tetlock et al. (2008) find that media pessimism causes downward pressure on market prices. \n",
    "  \n",
    "\n",
    "Feldman et al. (2009) were first to focus specifically on the management's discussion and analysis (MD&A) section. This is because the MD&A offers the most subjectivity in 10-K filings, and thus is best placed for sentiment analysis.\n",
    "Their analysis remained relatively simplistic, and focused on tone change via word categorization.\n",
    "Their results suggested that stock market reactions around SEC filings were positively related to tone change in the MD&A section. \n",
    "\n",
    "\n",
    "\n",
    "\n"
   ]
  },
  {
   "cell_type": "markdown",
   "metadata": {},
   "source": [
    "### Tutorial Part 1: Getting MD&A Textual Data\n",
    "\n",
    "In this section, we will run through how to download 10-K / 10-Q reports from the EDGAR database managed by the SEC.\n",
    "This is only for US listed stocks. \n",
    "\n",
    "\n",
    "First, we need to download the master index file from EDGAR.\n",
    "For simplicity without a loss of generality, let us simply look at the year 2018, quarter 1.\n",
    "Therefore, we will be downloading links to company 10-Q reports in this particular case.\n",
    "This will be saved in a file named `master.idx'.\n"
   ]
  },
  {
   "cell_type": "code",
   "execution_count": 9,
   "metadata": {},
   "outputs": [],
   "source": [
    "import shutil\n",
    "import urllib.request\n",
    "import urllib.error\n",
    "\n",
    "idx_url = 'https://www.sec.gov/Archives/edgar/full-index/2018/QTR1/master.idx'\n",
    "response = urllib.request.urlopen(idx_url)\n",
    "out_file = open('master.idx', 'wb')\n",
    "shutil.copyfileobj(response, out_file)\n",
    "out_file.close()\n"
   ]
  },
  {
   "cell_type": "markdown",
   "metadata": {},
   "source": [
    "If you open up the master file and have a peek inside, you will realise that there a lot of different types of forms.\n",
    "We're only interested in 10-Q files."
   ]
  },
  {
   "cell_type": "code",
   "execution_count": 10,
   "metadata": {},
   "outputs": [
    {
     "name": "stdout",
     "output_type": "stream",
     "text": [
      "1000045|NICHOLAS FINANCIAL INC|10-Q|2018-02-09|edgar/data/1000045/0001193125-18-037381.txt\n",
      "\n"
     ]
    }
   ],
   "source": [
    "with open(\"master.idx\") as file_in:\n",
    "    head = [next(file_in) for x in range(15)]\n",
    "     \n",
    "print(head[12])"
   ]
  },
  {
   "cell_type": "markdown",
   "metadata": {},
   "source": [
    "As you can see, we have the filing url to Nicholas Financial Inc's 10-Q report.\n",
    "Now, we can proceed to download the file.\n"
   ]
  },
  {
   "cell_type": "code",
   "execution_count": 11,
   "metadata": {},
   "outputs": [],
   "source": [
    "from bs4 import BeautifulSoup\n",
    "import re\n",
    "\n",
    "filing_url = \"edgar/data/1000045/0001193125-18-037381.txt\"\n",
    "file = urllib.request.urlopen('http://www.sec.gov/Archives/' + filing_url)\n",
    "raw_text = file.read()\n",
    "soup = BeautifulSoup(raw_text, 'html.parser')"
   ]
  },
  {
   "cell_type": "markdown",
   "metadata": {},
   "source": [
    "If you would like to view the 10-Q file in HTML format, you can use the prettify method and write to your local drive."
   ]
  },
  {
   "cell_type": "code",
   "execution_count": 12,
   "metadata": {},
   "outputs": [],
   "source": [
    "html = soup.prettify(\"utf-8\")\n",
    "with open(\"output_10Q.html\", \"wb\") as file:\n",
    "    file.write(html)"
   ]
  },
  {
   "cell_type": "markdown",
   "metadata": {},
   "source": [
    "Now we can proceed to clean the text, removing html tags, non-ascii characters and other formating quirks using regular expressions."
   ]
  },
  {
   "cell_type": "code",
   "execution_count": 13,
   "metadata": {},
   "outputs": [],
   "source": [
    "text_clean = re.sub(r'[^\\x00-\\x7F]+|\\W{2,}', ' ', soup.document.get_text())\n",
    "text_clean = re.sub('\\n', ' ', text_clean)"
   ]
  },
  {
   "cell_type": "markdown",
   "metadata": {},
   "source": [
    "In theory, with `text_clean`, we are now able to run sentiment analysis. \n",
    "However, if we want to isolate the management discussion and analysis section, we need to do some more work.\n",
    "\n",
    "First, we need to identify when `management's discussion and analysis` is first brought up in the corpus. \n",
    "Any text before this point can be trimmed, as it is no longer necessary.\n",
    "We can use the re.search() function for this. (re.I is short for re.IGNORECASE and re.M is short for re.MULTILINE)\n",
    "\n",
    "However, the first identification of MDA is usually in the content's page. Therefore, it is the second time we find the term `management's discussion and analysis` that the actual section begins.\n",
    "\n",
    "In a standard 10-Q report, the management discussion and analysis section occurs just directly before the \n",
    "`Quantitative and Qualitative Disclosures about Market Risk` section. \n",
    "\n",
    "\n"
   ]
  },
  {
   "cell_type": "code",
   "execution_count": 14,
   "metadata": {},
   "outputs": [
    {
     "name": "stdout",
     "output_type": "stream",
     "text": [
      "MANAGEMENT S DISCUSSION AND ANALYSIS OF FINANCIAL CONDITION AND RESULTS OF OPERATIONS Forward-Looking Information This report on Form 10-Q contains various statements other than those concerning historical information that are based on management s beliefs and assumptions as well as information currently available to management and should be considered forward-looking statements This notice is intended to take advantage of the safe harbor provided by the Private Securities Litigation Reform Act of 1995 with respect to such forward-looking statements When used in this document the words anticipate  estimate  expect  will  may  plan believe  intend  and similar expressions are intended to identify forward-looking statements Although Nicholas Financial Inc including its subsidiaries the Company we us or our  believes that the expectations reflected in such forward-looking statements are reasonable it can give no assurance that such expectations will prove to be correct Such statements are subject to certain risks uncertainties and assumptions including but not limited to the risk factors discussed under Item 1A Risk Factors  in our Annual Report on Form 10-K and Part II Item 1A Risk Factors  in this Form 10-Q Should one or more of these risks or uncertainties materialize or should underlying assumptions prove incorrect actual results may vary materially from those anticipated estimated or expected Among the key factors that may have a direct bearing on the Company s operating results are the availability of capital including the ability to access bank financing on favorable terms recently enacted proposed or future legislation and the manner in which it is implemented including the effect of changes in tax law such as the effect of the Tax Cuts and Jobs Act TCJA  that was enacted on December 22 2017 fluctuations in the economy the degree and nature of competition and its effects on the Company s ability to maintain profit margins at acceptable levels or generate net income at all fluctuations in interest rates demand for consumer financing in the markets served by the Company the Company s products and services increases in the default rates experienced on automobile finance installment contracts Contracts  adverse regulatory changes in the Company s existing and future markets the Company s ability to expand its business including its ability to complete acquisitions and integrate the operations of acquired businesses and to expand into new markets and the Company s ability to recruit and retain qualified employees All forward looking statements included in this report are based on information available to the Company on the date hereof and the Company assumes no obligations to update any such forward looking statement You should also consult factors described from time to time in the Company s other filings made with the Securities and Exchange Commission including its reports on Forms 10-K 10-Q 8-K and annual reports to shareholders Litigation and Legal Matters See Item 1 Legal Proceedings  in Part II of this Form 10-Q Critical Accounting Policy The Company s critical accounting policy relates to the allowance for credit losses It is based on management s opinion of an amount that is adequate to absorb losses incurred in the existing portfolio The allowance for credit losses is established through a provision for credit losses based on management s evaluation of the risk inherent in the loan portfolio which includes the competitive environment that existed when the loan was acquired the composition of the portfolio and current economic conditions Such evaluation considers among other matters the estimated net realizable value or the fair value of the underlying collateral economic conditions historical loan loss experience management s estimate of probable credit losses and other factors that warrant recognition in providing for an adequate credit loss allowance Because of the nature of the customers under the Company s Contracts and its Direct Loan program the Company considers the establishment of adequate reserves for credit losses to be imperative The Company segregates its Contracts into static pools for purposes of establishing reserves for losses All Contracts purchased by a branch during a fiscal quarter comprise a static pool The Company pools Contracts according to branch location because the branches purchase Contracts in different geographic markets This method of pooling by branch and quarter allows the Company to evaluate the different markets where the branches operate The pools also allow the Company to evaluate the different levels of customer income stability and credit history and the types of vehicles purchased in each market In analyzing a static pool the Company considers the performance of prior static pools originated by the same branch office the competition at time of acquisition and current market and economic conditions Each static pool is analyzed monthly to determine if the loss reserves are adequate and adjustments are made if they are determined to be necessary A consolidated static pool contains the static pools of all branches for a given quarter The Company analyzes each consolidated static pool at specific points in time 16 The Company has been maintaining historical write-off information for over 20 years with respect to every consolidated static pool segregating each consolidated static pool by liquidation and in effect creating snapshots of a pool s write-off-to liquidation ratio at five different points in such pool s liquidation cycle These snapshots help the Company in determining the appropriate provision for credit losses and subsequent allowance for credit losses The five snapshots are taken when the liquidation levels are at 20 40 60 80 and 100 The Company s allowance for credit losses incorporates recent trends that include the acquisition of longer term contracts and increased delinquencies which the Company believes more closely depicts the amount of the allowance for credit losses needed to maintain an adequate reserve Management evaluates each static pool on an independent basis each quarter and accounts for such pool s term how far along the corresponding pool is in its liquidation cycle late charges the number of deferments and delinquency This information is based on the result each individual Contract The Company believes that this approach reflects the current trends of incurred losses within the portfolio and better aligns the allowance for credit losses with the portfolio s performance indicators Contracts are purchased from many different dealers and are all purchased on an individual Contract-by-Contract basis Individual Contract pricing is determined by the automobile dealerships and is generally based on the lesser of the applicable state maximum interest rate if any or the maximum interest rate which the customer will accept In most markets competitive forces will drive down Contract rates from the maximum rate to a level where an individual competitor is willing to buy an individual Contract The Company does not anticipate any portfolio acquisitions in the near-term The Company utilizes the branch model which allows for Contract purchasing to be done at the branch level The Company has detailed underwriting guidelines it utilizes to determine which Contracts to purchase These guidelines are specific and are designed to provide reasonable assurance that the Contracts that the Company purchases have common risk characteristics The Company utilizes its District Managers to evaluate their respective branch locations for adherence to these underwriting guidelines as well as approve underwriting exceptions The Company also utilizes internal audit the IA  to assure adherence to its underwriting guidelines Any Contract that does not meet our underwriting guidelines can be submitted by a branch manager for approval from the Company s District Managers or senior management Introduction Pretax income for the three months ending December 31 2017 was 8 million In the month of December 2017 the Company had a one-time income tax expense adjustment of 3.4 million relating to the Tax Cuts and Jobs Act TCJA  which reduced net income to a net loss The net loss for the three months ended December 31 2017 was 2.9 million For the three months ended December 31 2016 the Company had pretax earnings of 2.6 million and net earnings of 1.6 million Diluted net loss per share decreased to 0.37 for the three months ended December 31 2017 as compared to diluted earnings per share of 0.21 for the three months ended December 31 2016 Revenue decreased 7 to 20.5 million for the three months ended December 31 2017 as compared to 22.0 million for the three months ended December 31 2016 The Company announced that its pretax income for the nine months ending December 31 2017 was 2.7 million In the month of December 2017 the Company had a one-time income tax expense adjustment of 3.4 million relating to the TCJA which reduced net income to a net loss The net loss for the nine months ended December 31 2017 was 1.7 million For the nine months ended December 31 2016 the Company had pretax earnings of 10.5 million and net earnings of 6.5 million Diluted net loss per share decreased to 0.22 for the nine months ended December 31 2017 as compared to diluted earnings per share of 0.83 for the nine months ended December 31 2016 Revenue decreased 5 to 64.1 million for the nine months ended December 31 2017 as compared to 67.6 million for the nine months ended December 31 2016 On December 22 2017 the Tax Cuts and Jobs Act was passed into law TCJA  The TCJA includes a broad range of tax reform including changes to tax rates and deductions that are effective January 1 2018 The decrease in the enacted corporate tax rate expected to apply when our temporary differences are realized or settled ultimately resulted in a one-time revaluation of our net deferred tax asset of 3.4 million in December 2017 with a corresponding charge to income tax expense The tax effects of the TCJA increased income tax expense to a level that reduced net income to a net loss for both the three and nine-month periods ending December 31 2017 17 Three months endedDecember 31 In thousands Nine months endedDecember 31 In thousands 2017 2016 2017 2016 Portfolio Summary Average finance receivables net of unearned interest 1 321,742 349,916 333,660 345,950 Average indebtedness 2 183,615 210,745 196,619 209,875 Interest and fee income on finance receivables 20,526 22,044 64,062 67,606 Interest expense 2,585 2,258 7,483 6,745 Net interest and fee income on finance receivables 17,941 19,786 56,579 60,861 Gross portfolio yield 3 25.52 25.20 25.60 26.06 Interest expense as a percentage of average finance receivables net of unearned interest 3.21 2.58 2.99 2.60 Provision for credit losses as a percentage of average finance receivables net of unearned interest 11.18 10.05 11.54 9.24 Net portfolio yield 3 11.13 12.57 11.07 14.22 Marketing salaries employee benefits depreciation and administrative expenses as a percentage of average finance receivables net of unearned interest 10.12 9.70 9.98 10.26 Pre-tax yield as a percentage of average finance receivables net of unearned interest 4 1.01 2.87 1.09 3.96 Write-off to liquidation 5 13.66 12.35 13.00 11.02 Net charge-off percentage 6 10.63 8.86 10.13 8.57 Allowance percentage 7 6.59 4.21 6.35 4.26 Note All three-month and nine-month statement of income performance indicators expressed as percentages have been annualized 1 Average finance receivables net of unearned interest represents the average of gross finance receivables less unearned interest throughout the period 2 Average indebtedness represents the average outstanding borrowings under the Line 3 Gross portfolio yield represents interest and fee income on finance receivables as a percentage of average finance receivables net of unearned interest Net portfolio yield represents a interest and fee income on finance receivables minus b interest expense minus c the provision for credit losses as a percentage of average finance receivables net of unearned interest 4 Pre-tax yield represents net portfolio yield minus administrative expenses marketing salaries employee benefits depreciation and administrative as a percentage of average finance receivables net of unearned interest 5 Write-off to liquidation percentage is defined as net charge-offs divided by liquidation Liquidation is defined as beginning receivable balance plus current period purchases and originations minus ending receivable balance 6 Net charge-off percentage represents net charge-offs charge-offs less recoveries divided by average finance receivables net of unearned interest outstanding during the period 7 Allowance percentage represents the allowance for credit losses divided by average finance receivables net of unearned interest outstanding during the period 18 Three months ended December 31 2017 compared to three months ended December 31 2016 Interest Income and Loan Portfolio Interest and fee income on finance receivables predominately finance charge income decreased 7 to 20.5 million for the three-month period ended December 31 2017 from 22.0 million for the three-month period ended December 31 2016 The decrease was primarily due to a decrease in the average weighted APR of the portfolio and a decrease in the volume of Contracts purchased Average finance receivables net of unearned interest equaled approximately 321.7 million for the three-month period ended December 31 2017 a decrease of 8 from 349.9 million for the corresponding period ended December 31 2016 Our purchasing volume declined 39 quarter over quarter mainly as a result of the modification of our underwriting guidelines including the use of alternative data provided by a third party service company beginning in March 2017 to improve pricing for proper risk The decrease in average finance receivables net of unearned interest was primarily due to this decrease in purchasing volume The gross portfolio yield increased to 25.52 for the three-month period ended December 31 2017 compared to 25.20 for the three-month period ended December 31 2016 The gross portfolio yield increased primarily due to the decrease in past-due accounts see Note 4 Finance Receivables  for further discussion The net portfolio yield decreased to 11.13 for the three-month period ended December 31 2017 from 12.57 for the corresponding period ended December 31 2016 The net portfolio yield decreased due to an increase in interest expense as described under Interest Expense  and an increase in the provision for credit losses as described under Analysis of Credit Losses  Marketing Salaries Employee Benefits Depreciation and Administrative Expenses Marketing salaries employee benefits depreciation and administrative expenses decreased to approximately 8.1 million for the three-month period ended December 31 2017 from approximately 8.5 million for the three-month period ended December 31 2016 The decrease was primarily related to a decrease in bonuses related to the declining portfolio performance along with a decrease in administrative costs directly related to the volume of Contracts purchased Marketing salaries employee benefits depreciation and administrative expenses as a percentage of finance receivables net of unearned interest increased to 10.12 for the three-month period ended December 31 2017 from 9.70 for the three-month period ended December 31 2016 Interest Expense Interest expense increased to approximately 2.6 million for the three-month period ended December 31 2017 as compared to 2.3 million for the three-month period ended December 31 2016 This increase was primarily due to the increase in the pricing to 400 basis points above 30 day LIBOR and an increase in 30 day LIBOR rates Pricing prior to November 7 2017 was 350 basis points above 30 day LIBOR Pricing for the three-month period ended December 31 2016 was 300 basis points above 30 day LIBOR until December 30 2016 when it changed to 350 basis points above 30 day LIBOR This change continued until the November 7 2017 amendment See below for more details The following table summarizes the Company s average cost of borrowed funds Three months ended December 31 2017 2016 Variable interest under the line of credit facility 0.63 0.21 Settlements under interest rate swap agreements 0.00 0.09 Credit spread under the line of credit facility 5.00 4.00 Average cost of borrowed funds 5.63 4.30 LIBOR rates have increased 1.57 as of December 31 2017 compared to 77 as of December 31 2016 which caused an increase in variable interest for the amount that exceeded the 1 floor Average cost of borrowed funds is greater than the highest 30 day LIBOR rate plus 400 basis points or 5.57 due to amortized loan costs During the three months ended September 30 2017 the Company s remaining interest rate swap expired see Note 6 Interest Rate Swap Agreements  for further discussion but these did not have a significant effect on borrowing costs For further discussions regarding interest rates see Note 5 Line of Credit  19 Nine months ended December 31 2017 compared to nine months ended December 31 2016 Interest Income and Loan Portfolio Interest and fee income on finance receivables predominately finance charge income decreased 5 to 64.1 million for the nine-month period ended December 31 2017 from 67.6 million for the nine-month period ended December 31 2016 The decrease was primarily due to a decrease in the average weighted APR of the portfolio and a decrease in the volume of Contracts purchased Average finance receivables net of unearned interest equaled approximately 333.7 million for the nine-month period ended December 31 2017 a decrease of 4 from 346.0 million for the corresponding period ended December 31 2016 Our purchasing volume declined 36 period over period mainly as a result of the modification of our underwriting guidelines including the use of alternative data provided by a third party service company beginning in March 2017 to improve pricing for proper risk The decrease in average finance receivables net of unearned interest was primarily due to this decrease in purchasing volume The gross portfolio yield decreased to 25.60 for the nine-month period ended December 31 2017 compared to 26.06 for the nine-month period ended December 31 2016 The gross portfolio yield decreased primarily due to the decrease in the average weighted APR of the portfolio described above The net portfolio yield decreased to 11.07 for the nine-month period ended December 31 2017 from 14.22 for the corresponding period ended December 31 2016 The net portfolio yield decreased due to a decrease in the gross portfolio yield but primarily to an increase in the provision for credit losses as described under Analysis of Credit Losses  Marketing Salaries Employee Benefits Depreciation and Administrative Expenses Marketing salaries employee benefits depreciation and administrative expenses decreased to approximately 25.0 million for the nine-month period ended December 31 2017 from approximately 26.6 million for the nine-month period ended December 31 2016 The decrease was primarily related to a decrease in the amount of Contracts purchased and a decrease in average headcount for the nine months ended December 31 2017 The Company decreased average headcount to 305 for the nine-month period ended December 31 2017 from 317 for the nine-month period ended December 31 2016 mainly due to branch closures Marketing salaries employee benefits depreciation and administrative expenses as a percentage of finance receivables net of unearned interest decreased to 9.98 for the nine-month period ended December 31 2017 from 10.26 for the nine-month period ended December 31 2016 Interest Expense Interest expense increased to approximately 7.5 million for the nine-month period ended December 31 2017 as compared to 6.7 million for the nine-month period ended December 31 2016 This increase was primarily due to the increase in the pricing to 400 basis points above 30 day LIBOR and an increase in 30 day LIBOR rates Pricing prior to November 7 2017 was 350 basis points above 30 day LIBOR Pricing for the nine-month period ended December 31 2016 was 300 basis points above 30 day LIBOR until December 30 2016 when it changed to 350 basis points above 30 day LIBOR This change continued until the November 7 2017 amendment See below for more details The following table summarizes the Company s average cost of borrowed funds Nine months ended December 31 2017 2016 Variable interest under the line of credit facility 0.08 0.18 Settlements under interest rate swap agreements 0.01 0.10 Credit spread under the line of credit facility 5.00 4.00 Average cost of borrowed funds 5.07 4.28 LIBOR rates have increased 1.57 as of December 31 2017 compared to 77 as of December 31 2016 which caused an increase in variable interest for the amount that exceeded the 1 floor The increase in LIBOR rates also caused a decrease in expense related to our interest rate swap agreements During the nine months ended December 31 2017 both of the Company s interest rate swaps expired see Note 6 Interest Rate Swap Agreements  for further discussion but these did not have a significant effect on borrowing costs For further discussions regarding interest rates see Note 5 Line of Credit  20 Contract Procurement The Company purchases Contracts in the eighteen states listed in the table below The Contracts purchased by the Company are predominately for used vehicles for the three and nine month periods ended December 31 2017 and 2016 less than 1 were for new vehicles The following tables present selected information on Contracts purchased by the Company net of unearned interest As ofDecember 31,2017 Three months endedDecember 31 Nine months ended December 31 2017 2016 2017 2016 State Number ofbranches Net Purchases(In thousands Net Purchases(In thousands FL 19 6,552 12,950 21,081 36,527 GA 6 3,000 4,195 8,270 11,515 NC 6 2,374 3,740 6,364 9,843 SC 2 1,088 1,213 3,040 3,062 OH 6 3,693 5,100 10,431 14,645 MI 2 1,286 1,725 3,685 5,121 VA 2 770 1,126 1,986 3,041 IN 3 1,776 2,318 4,975 6,865 KY 3 1,410 2,271 4,159 6,316 MD 1 244 898 886 2,056 AL 2 682 1,138 2,259 3,699 TN 2 982 1,426 2,304 3,858 IL 3 525 2,004 2,245 5,570 MO 3 1,153 2,383 3,615 5,997 KS 1 427 926 1,390 2,274 TX 2 739 1,578 1,859 5,239 PA 1 677 748 1,666 1,878 WI a  202 106 806 Total 64 27,378 45,941 80,321 128,312 a Purchases in the state of Wisconsin are currently being acquired and serviced through an Illinois branch Three months endedDecember 31 Purchases in thousands Nine months endedDecember 31 Purchases in thousands Contracts 2017 2016 2017 2016 Purchases 27,378 45,941 80,321 128,312 Weighted APR 21.68 21.99 21.99 22.20 Average discount 6.89 6.87 7.23 7.00 Weighted average term months 54 57 55 57 Average loan 11,577 11,945 11,552 11,727 Number of Contracts 2,365 3,846 6,953 10,942 21 Loan Origination The following table presents selected information on Direct Loans originated by the Company net of unearned interest Three months endedDecember 31 Originations in thousands Nine months endedDecember 31 Originations in thousands Direct Loans Originated 2017 2016 2017 2016 Originations 2,218 2,578 6,196 7,109 Weighted APR 25.20 25.87 25.25 26.03 Weighted average term months 28 29 29 29 Average loan 3,566 3,661 3,742 3,563 Number of loans 622 704 1,656 1,995 Analysis of Credit Losses As of December 31 2017 the Company had approximately 1,491 active static pools The average pool upon inception consisted of 49 Contracts with aggregate finance receivables net of unearned interest of approximately 570,000 The provision for credit losses increased to 9.0 million for the three months ended December 31 2017 from 8.8 million for the three months ended December 31 2016 largely due to the net charge-off percentage see note 6 in the Portfolio Summary table in the Introduction  above for the definition of net charge-off percentage increasing to 10.63 for the three months ended December 31 2017 from 8.86 for the three months ended December 31 2016 for the reasons described below The provision for credit losses increased to approximately 28.9 million for the nine months ended December 31 2017 from approximately 24.0 million for the nine months ended December 31 2016 This increase is primarily a result of an increase in the net charge-off rate to 10.13 for the nine months ended December 31 2017 from 8.57 for the nine months ended December 31 2016 for the reasons described below The Company s allowance for credit losses incorporates recent trends that include increased delinquencies by analyzing the allowance on a loan by loan basis which the Company believes more closely depicts the amount of the allowance for credit losses needed to maintain an adequate reserve within a static pool The Company believes that this approach reflects the current trends of incurred losses within the portfolio and better aligns the allowance for credit losses with the portfolio s performance indicators The allowance for credit losses as a percentage of average net receivables see note 7 in the Portfolio Summary table in the Introduction  above for the definition of allowance percentage increased to 6.59 for the three months ended December 31 2017 from 4.21 for the three months ended December 31 2016 The allowance for credit losses as a percentage of average net receivables increased to 6.35 for the nine months ended December 31 2017 from 4.26 for the nine months ended December 31 2016 The increase is primarily a result of an increase in write-off to liquidation to 13.66 for the three months ended December 31 2017 from 12.35 for the three months ended December 31 2016 and to 13.00 for the nine months ended December 31 2017 from 11.02 for the nine months ended December 31 2016 The Company considers multiple factors to assist in determining appropriate loss reserve levels The Company continues to evaluate reserve levels on a pool-by-pool basis during each reporting period The longer-term outlook for portfolio performance will depend on overall economic conditions the rational or irrational behavior of the Company s competitors and the Company s ability to monitor manage and implement its underwriting and collections philosophy in additional geographic areas as it strives to continue its expansion The Company s loan losses as a percentage of liquidation see note 5 in the Portfolio Summary table in the Introduction  above for the definition of write-off to liquidation increased to 13.66 for the three months ended December 31 2017 as compared to 12.35 for the three months ended December 31 2016 The Company s losses as a percentage of liquidation increased to 13.00 for the nine months ended December 31 2017 as compared to 11.02 for the nine months ended December 31 2016 The increases in the net charge-off percentage write-off to liquidation percentage and allowance percentage for both the three-month and nine-month periods ended December 31 2017 were primarily the result of the Company underestimating the competitiveness of the market in prior years and purchasing loans of lower credit quality in such years As these loans move toward maturity the actual losses do not occur evenly over their respective lives Within both the three-month and nine-month periods ended December 31 2017 the Company saw more charge-offs in these lower quality pools than it saw for the same pools during the three-month and nine-month periods ended December 31 2016 At the beginning of 2016 the Company implemented measures to mitigate losses identify fraud on the front end and more accurately price 22 for risk In January of 2016 the Company modified its underwriting policies in March of 2017 the Company engaged a third party service company to more accurately price risk and in June of 2017 the Company created a centralized funding department to provide a final review of all Contracts prior to funding The Company also continues to see decreased auction proceeds from repossessed vehicles which increases the amount of write-offs which in turn increases the write-off to liquidation percentage allowance percentage and net charge-off percentage During the three months ended December 31 2017 and 2016 auction proceeds from the sale of repossessed vehicles averaged approximately 36 and 37 respectively of the related principal balance During the nine months ended December 31 2017 and 2016 auction proceeds from the sale of repossessed vehicles averaged approximately 35 and 38 respectively of the related principal balance Based on current market conditions the Company does not expect auction proceeds to improve within the remaining quarters of the fiscal year Recoveries as a percentage of charge-offs were approximately 4.10 and 6.88 for the three months ended December 31 2017 and 2016 respectively Recoveries as a percentage of charge-offs were approximately 5.26 and 7.49 for the nine months ended December 31 2017 and 2016 respectively The Company attributes a large portion of this decrease simply to the increase in charge-offs for the 2017 periods and to a lesser extent to the September 1 2016 change in its accounting policy to write off accounts that are 180 delinquent from 120 days delinquent The Company periodically aggregates charge-off accounts it deems uncollectible and sells them to a third-party For the nine months ended December 31,2016 the Company received approximately 225k from a third party sale this has not occurred in the nine-months ended December 31 2017 The delinquency percentage for Contracts more than thirty days past due excluding Chapter 13 bankruptcy accounts as of December 31 2017 was 13.76 a decrease from 14.45 as of December 31 2016 The delinquency percentage for Direct Loans more than thirty days past due excluding Chapter 13 bankruptcy accounts as of December 31 2017 was 4.46 a decrease from 4.88 as of December 31 2016 The decrease in delinquency percentage for both Contracts and Direct Loans was driven primarily by portfolio improvement The delinquency percentage for the period ended December 31 2016 was exacerbated by greater than anticipated difficulties in implementing a centralized collection model in October 2016 after the Company moved all loan-servicing operations from branch locations to a centralized location within its corporate headquarters in Clearwater The Company has since moved all of its collections back to the branches The Company has continued to see a significant number of competitors with aggressive underwriting in its operating market See Note 4 Finance Receivables  for changes in allowance for credit losses credit quality and delinquencies In accordance with our policies and procedures certain borrowers qualify for and the Company offers one-month principal payment deferrals on Contracts and Direct Loans For the three months ended December 31 2017 and December 31 2016 the Company granted deferrals to approximately 7.47 and 11.84 respectively of total Contracts and Direct Loans For the nine months ended December 31 2017 and December 31 2016 the Company granted deferrals to approximately 30.34 and 22.85 respectively of total Contracts and Direct Loans The increase in the number of deferrals for the nine month period ended December 31 2017 was mainly a result of the impact of Hurricane Irma and Hurricane Harvey with 42 of our branch locations located in areas that were affected by these storms The Company offered deferrals to those customers that were impacted to assist them during a time of crisis Additionally deferments are influenced by portfolio performance including but not limited to inflation credit quality of loans purchased competition at the time of Contract acquisition and general economic conditions Income Taxes On December 22 2017 the Tax Cuts and Jobs Act was passed into law TCJA  The TCJA includes a broad range of tax reform including changes to tax rates and deductions that are effective January 1 2018 The decrease in the enacted corporate tax rate expected to apply when our temporary differences are realized or settled ultimately resulted in a one-time revaluation of our net deferred tax asset of 3.4 million in December 2017 with a corresponding charge to income tax expense The tax effects of the TCJA increased income tax expense to a level that reduced net income to a net loss for both the three and nine-month periods ending December 31 2017 The provision for income taxes increased to approximately 3.7 million for the three months ended December 31 2017 from approximately 1.0 million for the three months ended December 31 2016 The Company s effective tax rate increased to 456.48 for the three months ended December 31 2017 from 37.93 for the three months ended December 31 2016 The provision for income taxes increased to approximately 4.4 million for the nine months ended December 31 2017 from approximately 4.0 million for the nine months ended December 31 2016 The Company s effective tax rate increased to 164.70 for the nine months ended December 31 2017 from 38.01 for the nine months ended December 31 2016 23 Liquidity and Capital Resources The Company s cash flows are summarized as follows Nine months endedDecember 31 In thousands 2017 2016 Cash provided by used in Operating activities 18,551 22,518 Investing activities 16,214 24,232 Financing activities 34,538 3,529 Net increase in cash 227 1,815 The Company s primary use of working capital for the nine months ended December 31 2017 was funding the purchase of Contracts which are financed substantially through cash from principal payments received cash from operations and our line of credit the Line  The Company may borrow up to 225.0 million under the Line Effective November 8 2017 the Company executed amendment 7 to the Line which extended the maturity date to March 31 2018 and increased the pricing of the Line to 400 basis points above 30 day LIBOR while maintaining the 1 floor on LIBOR The amendment also increased the voting stock ownership limit from 20 to 30 and revised the calculation of availability and the minimum interest coverage ratio The threshold for the minimum interest coverage ratio was lowered for the period ending December 31 2017 On December 30 2016 the Company had executed an amendment which increased the pricing of the Line to 350 basis points above 30 day LIBOR while maintaining the 1 floor on LIBOR This pricing was maintained under a subsequent amendment effective June 30 2017 Prior to December 30 2016 the pricing on the Line was 300 basis points above 30 day LIBOR with a 1 floor on LIBOR Pledged as collateral for this Line are all the assets of the Company The Line requires compliance with certain financial ratios and covenants and satisfaction of specified financial tests including maintenance of asset quality and performance tests As of December 31 2017 the Company is in compliance with all debt covenants Had the Company not entered into amendment 6 and amendment 7 to the credit agreement the Company would not have been in compliance with the minimum interest coverage ratio of 1.5:1 as of June 30 2017 September 30 2017 and December 31 2017 respectively As of December 31 2017 the amount outstanding under the Line was 178.0 million while the average amount outstanding during the three and nine months ended December 31 2017 was 183.6 million and 196.6 million respectively The exact amount that the Company may borrow under the Line at any given time is determined in accordance with the Second Amended and Restated Loan and Security Agreement as subsequently amended The Company will continue to depend on the availability of the Line together with cash from operations to finance future operations The availability of funds under the Line generally depends on availability calculations as defined in the corresponding credit agreement In addition our credit facility requires us to comply with certain financial ratios and covenants and to satisfy specified financial tests including maintenance of asset quality and portfolio performance tests Since the borrowings available under the Line are calculated every month based on individual loan criteria as defined in the credit agreement no assurances can be given that the Company will maintain sufficient availability As disclosed in Note 4 to the financial statements the quality of the Company s loan portfolio has generally been deteriorating which has resulted in an increase in non-performing loans an increase in delinquencies with a decrease limited to the quarter ended December 31 2017 and other factors which in turn has resulted in increased net charge-offs and an increase in the provision for credit losses These conditions have resulted in a reduction in net earnings and have affected our borrowing capacity under the credit facility Failure to meet any financial ratios covenants or financial tests could result in an event of default under our line of credit facility If an event of default occurs under the credit facility our lenders could increase our borrowing costs restrict our ability to obtain additional borrowings under the facility accelerate all amounts outstanding under the facility or enforce their interest against collateral pledged under the facility The Company has a longstanding relationship with its lenders and believes it is probable that it will be able to obtain financing from either its existing lenders or from other sources However the Line currently matures on March 31,2018 The Company can provide no assurances that the lenders will approve the further renewal or extension of the Line past its current maturity or assuming that they will approve it that the facility will not be on terms less favorable than the current agreement The Company may also determine to seek alternative financing including but not limited to the issuance of equity or debt however we may not be able to raise additional funds on acceptable terms or at all 24 See also Our business depends on our continued access to bank financing on acceptable terms  in 1A Risk Factors  in this report which is incorporated herein by reference Contractual Obligations The following table summarizes the Company s material obligations as of December 31 2017 Payments Due by Period(In thousands Total Less than1 year 1 to 3years 3 to 5years More than5 years Operating leases 4,153 2,505 1,578 70 Line of credit1 178,000 178,000 Interest on Line1 2,479 2,479 Total 184,632 182,984 1,578 70 1 The Company s Line matures on March 31 2018 Interest on outstanding borrowings under the Line as of December 31 2017 is based on an effective interest rate of 5.57 The effective interest rate used in the above table does not contemplate the possibility of entering into interest rate swap agreements in the future ITEM 3 \n"
     ]
    }
   ],
   "source": [
    "# Trim all the text before the management's discussion and analysis section\n",
    "trim_beginning = re.search(r'management[\\s\\']*s discussion and analysis', text_clean, re.M | re.I)\n",
    "text_tmp = text_clean[trim_beginning.end():]\n",
    "trim_beginning = re.search(r'management[\\s\\']*s discussion and analysis', text_tmp, re.M | re.I)\n",
    "text_tmp = text_tmp[trim_beginning.start():]\n",
    "\n",
    "# Trim all the text after the management's discussion and analysis section\n",
    "trim_end = re.search(r'quantitative and qualitative', text_tmp, re.M | re.I)\n",
    "text_mda = text_tmp[:trim_end.start()]\n",
    "\n",
    "# Resulting management's discussion and analysis section after trim\n",
    "print(text_mda)\n"
   ]
  },
  {
   "cell_type": "markdown",
   "metadata": {},
   "source": [
    "### Tutorial Part 2: Conducting Sentiment Analysis\n",
    "\n",
    "\n"
   ]
  },
  {
   "cell_type": "markdown",
   "metadata": {},
   "source": [
    "### References\n",
    "\n",
    "Huang, K.-W. and Z. Li. 2011. \"A Multilabel Text Classification Algorithm for Labeling Risk Factors in SEC Form 10-K,\" ACM Transactions on MIS (2:3), Article 18. \n",
    "\n",
    "Humpherys, S. L., K. C. Moffitt, et al. 2011. \"Identification of fraudulent financial statements using linguistic credibility analysis,\" Decision Support Systems (50:3), pp.  585–594.\n",
    "\n",
    "Kravet, T. and V. Muslu (2013). \"Textual Risk Disclosures and Investors' Risk Perceptions,\" Review of Accounting Studies.\n",
    "\n",
    "Li, F. 2010. \"The Information Content of Forward-Looking Statements in Corporate Filings—A Naive Bayesian Machine Learning Approach,\" Journal of Accounting Research (48:5), pp.  1049-1102. \n",
    "\n"
   ]
  }
 ],
 "metadata": {
  "kernelspec": {
   "display_name": "Python 3",
   "language": "python",
   "name": "python3"
  },
  "language_info": {
   "codemirror_mode": {
    "name": "ipython",
    "version": 3
   },
   "file_extension": ".py",
   "mimetype": "text/x-python",
   "name": "python",
   "nbconvert_exporter": "python",
   "pygments_lexer": "ipython3",
   "version": "3.6.4"
  }
 },
 "nbformat": 4,
 "nbformat_minor": 2
}
