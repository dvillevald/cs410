{
 "cells": [
  {
   "cell_type": "markdown",
   "metadata": {},
   "source": [
    "## CS410 Text Information Systems Technology Review"
   ]
  },
  {
   "cell_type": "markdown",
   "metadata": {},
   "source": [
    "### Topic: Sentiment Analysis using Python nltk for Financial Reports"
   ]
  },
  {
   "cell_type": "markdown",
   "metadata": {},
   "source": [
    "\n",
    "### Introduction\n",
    "\n",
    "In rencent years, the analysis of textual information for financial decision making has become increasingly popular.\n",
    "For instance, Li (2010) use it to predict future earnings, Kravet and Musli (2013) use textual analysis to predict stock prices and Humphreys et al. (2011) employ it for detecting corporate fraud. \n",
    "\n",
    "Academic research aside, the use of textual materials for conducting sentiment analysis is also important from an industry perspective. It is not difficult to see that effective sentiment analysis can be converted into potential alpha signals for quantitative fund managers.  \n",
    "\n",
    "A common method for discerning sentiment of a company is to run textual analysis on a company's Management Discussion and Analysis (MD&A) section of Form 10-Q and 10-K. Sentiment can be classified into positive, negative or neutral tones which can then be used to generate a signal for earnings or stock price prediction.\n",
    "\n",
    "In this note, we will review of the technologies used by quantitative fund managers and academics to determine stock / company sentiment via textual analysis. We also provide a basic tutorial in Python of how this works in practice.\n",
    "\n",
    "\n",
    "\n",
    "### Literature Review\n",
    "\n",
    "\n",
    "\n",
    "\n",
    "\n",
    "| Authors                      | Data                    | Method                                         |\n",
    "|------------------------------|-------------------------|------------------------------------------------|\n",
    "| Loughran and McDonald (2009) | 10-K                    | word categorization: positive / negative words |\n",
    "| Tetlock et al. (2008)        | Financial News Articles | word categorization: positive / negative words |\n",
    "| Antweiler and Frank (2004)   | Yahoo! Finance Postings | single-label classifier                        |\n",
    "| Hanley and Hoberg (2010)     | IPO Prospectus          | single-label classifier                        |\n",
    "| Feldman et al. (2009)        | 10-K MD&A               | word categorization: positive / negative words |\n",
    "| Li (2010)                    | 10-K MD&A               | single-label classifier                        |\n",
    "| Li (2008)                    | 10-K                    | content analysis: readability                  |\n",
    "| Huang and Li (2011)          | 10-K Risk Factors       | multi-label classifier                         |\n",
    "\n",
    "\n",
    "\n",
    "\n"
   ]
  },
  {
   "cell_type": "markdown",
   "metadata": {},
   "source": [
    "### Tutorial: Getting MD&A Textual Data\n",
    "\n",
    "In this section, we will run through how to download 10-K / 10-Q reports from the EDGAR database managed by the SEC.\n",
    "This is only for US listed stocks. \n",
    "\n",
    "\n",
    "First, we need to download the master index file from EDGAR.\n",
    "For simplicity without a loss of generality, let us simply look at the year 2018, quarter 1.\n",
    "Therefore, we will be downloading links to company 10-Q reports in this particular case.\n",
    "This will be saved in a file named `master.idx'.\n"
   ]
  },
  {
   "cell_type": "code",
   "execution_count": null,
   "metadata": {},
   "outputs": [],
   "source": [
    "import shutil\n",
    "import urllib.request\n",
    "import urllib.error\n",
    "\n",
    "idx_url = 'https://www.sec.gov/Archives/edgar/full-index/2018/QTR1/master.idx'\n",
    "response = urllib.request.urlopen(idx_url)\n",
    "out_file = open('master.idx', 'wb')\n",
    "shutil.copyfileobj(response, out_file)\n",
    "out_file.close()\n"
   ]
  },
  {
   "cell_type": "markdown",
   "metadata": {},
   "source": [
    "If you open up the master file and have a peek inside, you will realise that there a lot of different types of forms.\n",
    "We're only interested in 10-Q files."
   ]
  },
  {
   "cell_type": "code",
   "execution_count": 11,
   "metadata": {},
   "outputs": [
    {
     "name": "stdout",
     "output_type": "stream",
     "text": [
      "['CIK|Company Name|Form Type|Date Filed|Filename\\n', '--------------------------------------------------------------------------------\\n', '1000032|BINCH JAMES G|4|2018-02-16|edgar/data/1000032/0000913165-18-000034.txt\\n', '1000045|NICHOLAS FINANCIAL INC|10-Q|2018-02-09|edgar/data/1000045/0001193125-18-037381.txt\\n']\n"
     ]
    }
   ],
   "source": [
    "with open(\"master.idx\") as file_in:\n",
    "    head = [next(file_in) for x in range(15)]\n",
    "     \n",
    "print(head[13])"
   ]
  },
  {
   "cell_type": "markdown",
   "metadata": {},
   "source": [
    "As you can see, we have the filing url to Nicholas Financial Inc's 10-Q report.\n",
    "Now, we can proceed to download the file.\n"
   ]
  },
  {
   "cell_type": "code",
   "execution_count": null,
   "metadata": {},
   "outputs": [],
   "source": [
    "filing_url = \"edgar/data/1000045/0001193125-18-037381.txt\"\n",
    "file = urllib.request.urlopen('http://www.sec.gov/Archives/' + filing_url)\n",
    "\n"
   ]
  },
  {
   "cell_type": "markdown",
   "metadata": {},
   "source": [
    "### References\n",
    "\n",
    "Huang, K.-W. and Z. Li. 2011. \"A Multilabel Text Classification Algorithm for Labeling Risk Factors in SEC Form 10-K,\" ACM Transactions on MIS (2:3), Article 18. \n",
    "\n",
    "Humpherys, S. L., K. C. Moffitt, et al. 2011. \"Identification of fraudulent financial statements using linguistic credibility analysis,\" Decision Support Systems (50:3), pp.  585–594.\n",
    "\n",
    "Kravet, T. and V. Muslu (2013). \"Textual Risk Disclosures and Investors' Risk Perceptions,\" Review of Accounting Studies.\n",
    "\n",
    "Li, F. 2010. \"The Information Content of Forward-Looking Statements in Corporate Filings—A Naive Bayesian Machine Learning Approach,\" Journal of Accounting Research (48:5), pp.  1049-1102. \n",
    "\n"
   ]
  }
 ],
 "metadata": {
  "kernelspec": {
   "display_name": "Python 3",
   "language": "python",
   "name": "python3"
  },
  "language_info": {
   "codemirror_mode": {
    "name": "ipython",
    "version": 3
   },
   "file_extension": ".py",
   "mimetype": "text/x-python",
   "name": "python",
   "nbconvert_exporter": "python",
   "pygments_lexer": "ipython3",
   "version": "3.6.4"
  }
 },
 "nbformat": 4,
 "nbformat_minor": 2
}
